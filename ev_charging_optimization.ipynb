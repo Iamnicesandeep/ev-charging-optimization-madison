{
  "nbformat": 4,
  "nbformat_minor": 0,
  "metadata": {
    "colab": {
      "provenance": []
    },
    "kernelspec": {
      "name": "python3",
      "display_name": "Python 3"
    },
    "language_info": {
      "name": "python"
    }
  },
  "cells": [
    {
      "cell_type": "code",
      "execution_count": 1,
      "metadata": {
        "id": "JG6BlPWklc0y"
      },
      "outputs": [],
      "source": [
        "#Copy-and-paste the code below to use as \"set-up\" when your optimization model uses Pyomo and Coin-OR solvers.\n",
        "#for reference, see https://jckantor.github.io/ND-Pyomo-Cookbook/notebooks/01.02-Running-Pyomo-on-Google-Colab.html#installing-pyomo-and-solvers\n",
        "\n",
        "%%capture\n",
        "import sys\n",
        "import os\n",
        "\n",
        "if 'google.colab' in sys.modules:\n",
        "    !pip install idaes-pse --pre\n",
        "    !idaes get-extensions --to ./bin\n",
        "    os.environ['PATH'] += ':bin'\n",
        "\n",
        "from pyomo.environ import *"
      ]
    },
    {
      "cell_type": "code",
      "source": [
        "import pyomo.environ as pyo\n",
        "import pandas as pd\n",
        "\n",
        "# Load and preprocess data\n",
        "file_path = 'ev_charging_patterns.csv'\n",
        "ev_data = pd.read_csv(file_path)\n",
        "\n",
        "# Aggregate demand by location\n",
        "demand_data = ev_data.groupby('Charging Station Location').agg(\n",
        "    demand=('Energy Consumed (kWh)', 'sum'),\n",
        "    sessions=('Charging Station ID', 'count')\n",
        ").reset_index()"
      ],
      "metadata": {
        "id": "3CFVpxwfmE9u"
      },
      "execution_count": null,
      "outputs": []
    },
    {
      "cell_type": "code",
      "source": [
        "# Define candidate sites\n",
        "candidate_sites = ev_data['Charging Station ID'].unique()\n",
        "installation_costs = {site: 50000 for site in candidate_sites}  # Example cost per site\n",
        "capacity = {site: 1000 for site in candidate_sites}  # Example capacity (kWh)\n",
        "\n",
        "# Create a simplified distance matrix (binary proximity: 1 if close enough, else 0)\n",
        "distance_threshold = 100  # Example threshold\n",
        "locations = ev_data[['Charging Station ID', 'Charging Station Location']].drop_duplicates()\n",
        "distances = {\n",
        "    (i, j): 1 if i != j else 0  # Example proximity logic\n",
        "    for i in candidate_sites\n",
        "    for j in demand_data['Charging Station Location']\n",
        "}\n",
        "\n",
        "# Fill in missing distances with a default value\n",
        "all_pairs = [(i, j) for i in candidate_sites for j in demand_data['Charging Station Location']]\n",
        "for pair in all_pairs:\n",
        "    if pair not in distances:\n",
        "        distances[pair] = 0  # Default to 0 if not provided\n",
        "\n",
        "\n",
        "# Parameters\n",
        "budget = 500000  # Total budget\n",
        "penalty_unmet_demand = 100  # Penalty cost per unmet demand unit (kWh)"
      ],
      "metadata": {
        "id": "5qv0HrN-mIW-"
      },
      "execution_count": null,
      "outputs": []
    },
    {
      "cell_type": "code",
      "source": [
        "# Model\n",
        "model = pyo.ConcreteModel()\n",
        "\n",
        "# Sets\n",
        "model.sites = pyo.Set(initialize=candidate_sites)\n",
        "model.zones = pyo.Set(initialize=demand_data['Charging Station Location'])\n",
        "\n",
        "# Parameters\n",
        "model.installation_costs = pyo.Param(model.sites, initialize=installation_costs)\n",
        "model.capacity = pyo.Param(model.sites, initialize=capacity)\n",
        "model.demand = pyo.Param(model.zones, initialize=demand_data.set_index('Charging Station Location')['demand'].to_dict())\n",
        "model.distances = pyo.Param(model.sites, model.zones, initialize=distances, within=pyo.Binary)\n",
        "\n",
        "# Variables\n",
        "model.x = pyo.Var(model.sites, within=pyo.Binary)  # Installation decision\n",
        "model.y = pyo.Var(model.sites, model.zones, within=pyo.Binary)  # Coverage decision\n",
        "\n",
        "# Objective: Minimize installation costs and penalty for unmet demand\n",
        "model.obj = pyo.Objective(\n",
        "    expr=sum(model.installation_costs[i] * model.x[i] for i in model.sites) +\n",
        "         sum(\n",
        "             penalty_unmet_demand * (1 - sum(model.y[i, j] for i in model.sites if (i, j) in model.distances and model.distances[i, j] == 1))\n",
        "             * model.demand[j]\n",
        "             for j in model.zones\n",
        "         ),\n",
        "    sense=pyo.minimize\n",
        ")"
      ],
      "metadata": {
        "id": "yU2tV24LlftD"
      },
      "execution_count": null,
      "outputs": []
    },
    {
      "cell_type": "code",
      "source": [
        "# Constraints\n",
        "def coverage_constraint(model, j):\n",
        "    return sum(model.y[i, j] for i in model.sites if model.distances[i, j]) >= 1\n",
        "\n",
        "model.coverage = pyo.Constraint(model.zones, rule=coverage_constraint)\n",
        "\n",
        "def capacity_constraint(model, i):\n",
        "    return sum(model.y[i, j] * model.demand[j]\n",
        "               for j in model.zones\n",
        "               if (i, j) in model.distances and model.distances[i, j]) <= model.capacity[i] * model.x[i]\n",
        "\n",
        "model.capacity = pyo.Constraint(model.sites, rule=capacity_constraint)\n",
        "\n",
        "def budget_constraint(model):\n",
        "    return sum(model.installation_costs[i] * model.x[i] for i in model.sites) <= budget\n",
        "\n",
        "model.budget = pyo.Constraint(rule=budget_constraint)"
      ],
      "metadata": {
        "colab": {
          "base_uri": "https://localhost:8080/",
          "height": 606
        },
        "id": "Qhu_ocyemRoK",
        "outputId": "3f33454f-9ddd-4388-d1ab-a37f7fb5c0b8"
      },
      "execution_count": null,
      "outputs": [
        {
          "output_type": "stream",
          "name": "stderr",
          "text": [
            "WARNING:pyomo.core:Implicitly replacing the Component attribute capacity (type=<class 'pyomo.core.base.param.IndexedParam'>) on block unknown with a new Component (type=<class 'pyomo.core.base.constraint.IndexedConstraint'>).\n",
            "This is usually indicative of a modelling error.\n",
            "To avoid this warning, use block.del_component() and block.add_component().\n",
            "ERROR:pyomo.core:Rule failed when generating expression for Constraint capacity with index Station_391:\n",
            "RecursionError: maximum recursion depth exceeded\n",
            "ERROR:pyomo.core:Constructing component 'capacity' from data=None failed:\n",
            "    RecursionError: maximum recursion depth exceeded\n"
          ]
        },
        {
          "output_type": "error",
          "ename": "RecursionError",
          "evalue": "maximum recursion depth exceeded",
          "traceback": [
            "\u001b[0;31m---------------------------------------------------------------------------\u001b[0m",
            "\u001b[0;31mRecursionError\u001b[0m                            Traceback (most recent call last)",
            "\u001b[0;32m/usr/local/lib/python3.10/dist-packages/pyomo/core/base/param.py\u001b[0m in \u001b[0;36m__getitem__\u001b[0;34m(self, args)\u001b[0m\n\u001b[1;32m   1013\u001b[0m         \u001b[0;32mtry\u001b[0m\u001b[0;34m:\u001b[0m\u001b[0;34m\u001b[0m\u001b[0;34m\u001b[0m\u001b[0m\n\u001b[0;32m-> 1014\u001b[0;31m             \u001b[0;32mreturn\u001b[0m \u001b[0msuper\u001b[0m\u001b[0;34m(\u001b[0m\u001b[0;34m)\u001b[0m\u001b[0;34m.\u001b[0m\u001b[0m__getitem__\u001b[0m\u001b[0;34m(\u001b[0m\u001b[0margs\u001b[0m\u001b[0;34m)\u001b[0m\u001b[0;34m\u001b[0m\u001b[0;34m\u001b[0m\u001b[0m\n\u001b[0m\u001b[1;32m   1015\u001b[0m         \u001b[0;32mexcept\u001b[0m\u001b[0;34m:\u001b[0m\u001b[0;34m\u001b[0m\u001b[0;34m\u001b[0m\u001b[0m\n",
            "\u001b[0;32m/usr/local/lib/python3.10/dist-packages/pyomo/core/base/indexed_component.py\u001b[0m in \u001b[0;36m__getitem__\u001b[0;34m(self, index)\u001b[0m\n\u001b[1;32m    620\u001b[0m         \u001b[0;32mtry\u001b[0m\u001b[0;34m:\u001b[0m\u001b[0;34m\u001b[0m\u001b[0;34m\u001b[0m\u001b[0m\n\u001b[0;32m--> 621\u001b[0;31m             \u001b[0;32mreturn\u001b[0m \u001b[0mself\u001b[0m\u001b[0;34m.\u001b[0m\u001b[0m_data\u001b[0m\u001b[0;34m[\u001b[0m\u001b[0mindex\u001b[0m\u001b[0;34m]\u001b[0m\u001b[0;34m\u001b[0m\u001b[0;34m\u001b[0m\u001b[0m\n\u001b[0m\u001b[1;32m    622\u001b[0m         \u001b[0;32mexcept\u001b[0m \u001b[0mKeyError\u001b[0m\u001b[0;34m:\u001b[0m\u001b[0;34m\u001b[0m\u001b[0;34m\u001b[0m\u001b[0m\n",
            "\u001b[0;31mRecursionError\u001b[0m: maximum recursion depth exceeded in comparison",
            "\nDuring handling of the above exception, another exception occurred:\n",
            "\u001b[0;31mRecursionError\u001b[0m                            Traceback (most recent call last)",
            "\u001b[0;32m<ipython-input-16-4170c421a3d9>\u001b[0m in \u001b[0;36m<cell line: 14>\u001b[0;34m()\u001b[0m\n\u001b[1;32m     12\u001b[0m \u001b[0;34m\u001b[0m\u001b[0m\n\u001b[1;32m     13\u001b[0m \u001b[0;34m\u001b[0m\u001b[0m\n\u001b[0;32m---> 14\u001b[0;31m \u001b[0mmodel\u001b[0m\u001b[0;34m.\u001b[0m\u001b[0mcapacity\u001b[0m \u001b[0;34m=\u001b[0m \u001b[0mpyo\u001b[0m\u001b[0;34m.\u001b[0m\u001b[0mConstraint\u001b[0m\u001b[0;34m(\u001b[0m\u001b[0mmodel\u001b[0m\u001b[0;34m.\u001b[0m\u001b[0msites\u001b[0m\u001b[0;34m,\u001b[0m \u001b[0mrule\u001b[0m\u001b[0;34m=\u001b[0m\u001b[0mcapacity_constraint\u001b[0m\u001b[0;34m)\u001b[0m\u001b[0;34m\u001b[0m\u001b[0;34m\u001b[0m\u001b[0m\n\u001b[0m\u001b[1;32m     15\u001b[0m \u001b[0;34m\u001b[0m\u001b[0m\n\u001b[1;32m     16\u001b[0m \u001b[0;32mdef\u001b[0m \u001b[0mbudget_constraint\u001b[0m\u001b[0;34m(\u001b[0m\u001b[0mmodel\u001b[0m\u001b[0;34m)\u001b[0m\u001b[0;34m:\u001b[0m\u001b[0;34m\u001b[0m\u001b[0;34m\u001b[0m\u001b[0m\n",
            "\u001b[0;32m/usr/local/lib/python3.10/dist-packages/pyomo/core/base/block.py\u001b[0m in \u001b[0;36m__setattr__\u001b[0;34m(self, name, val)\u001b[0m\n\u001b[1;32m    599\u001b[0m                 )\n\u001b[1;32m    600\u001b[0m                 \u001b[0mself\u001b[0m\u001b[0;34m.\u001b[0m\u001b[0mdel_component\u001b[0m\u001b[0;34m(\u001b[0m\u001b[0mname\u001b[0m\u001b[0;34m)\u001b[0m\u001b[0;34m\u001b[0m\u001b[0;34m\u001b[0m\u001b[0m\n\u001b[0;32m--> 601\u001b[0;31m                 \u001b[0mself\u001b[0m\u001b[0;34m.\u001b[0m\u001b[0madd_component\u001b[0m\u001b[0;34m(\u001b[0m\u001b[0mname\u001b[0m\u001b[0;34m,\u001b[0m \u001b[0mval\u001b[0m\u001b[0;34m)\u001b[0m\u001b[0;34m\u001b[0m\u001b[0;34m\u001b[0m\u001b[0m\n\u001b[0m\u001b[1;32m    602\u001b[0m             \u001b[0;32melse\u001b[0m\u001b[0;34m:\u001b[0m\u001b[0;34m\u001b[0m\u001b[0;34m\u001b[0m\u001b[0m\n\u001b[1;32m    603\u001b[0m                 \u001b[0;31m#\u001b[0m\u001b[0;34m\u001b[0m\u001b[0;34m\u001b[0m\u001b[0m\n",
            "\u001b[0;32m/usr/local/lib/python3.10/dist-packages/pyomo/core/base/block.py\u001b[0m in \u001b[0;36madd_component\u001b[0;34m(self, name, val)\u001b[0m\n\u001b[1;32m   1103\u001b[0m                 )\n\u001b[1;32m   1104\u001b[0m             \u001b[0;32mtry\u001b[0m\u001b[0;34m:\u001b[0m\u001b[0;34m\u001b[0m\u001b[0;34m\u001b[0m\u001b[0m\n\u001b[0;32m-> 1105\u001b[0;31m                 \u001b[0mval\u001b[0m\u001b[0;34m.\u001b[0m\u001b[0mconstruct\u001b[0m\u001b[0;34m(\u001b[0m\u001b[0mdata\u001b[0m\u001b[0;34m)\u001b[0m\u001b[0;34m\u001b[0m\u001b[0;34m\u001b[0m\u001b[0m\n\u001b[0m\u001b[1;32m   1106\u001b[0m             \u001b[0;32mexcept\u001b[0m\u001b[0;34m:\u001b[0m\u001b[0;34m\u001b[0m\u001b[0;34m\u001b[0m\u001b[0m\n\u001b[1;32m   1107\u001b[0m                 \u001b[0merr\u001b[0m \u001b[0;34m=\u001b[0m \u001b[0msys\u001b[0m\u001b[0;34m.\u001b[0m\u001b[0mexc_info\u001b[0m\u001b[0;34m(\u001b[0m\u001b[0;34m)\u001b[0m\u001b[0;34m[\u001b[0m\u001b[0;36m1\u001b[0m\u001b[0;34m]\u001b[0m\u001b[0;34m\u001b[0m\u001b[0;34m\u001b[0m\u001b[0m\n",
            "\u001b[0;32m/usr/local/lib/python3.10/dist-packages/pyomo/core/base/constraint.py\u001b[0m in \u001b[0;36mconstruct\u001b[0;34m(self, data)\u001b[0m\n\u001b[1;32m    718\u001b[0m                 \u001b[0;31m# Bypass the index validation and create the member directly\u001b[0m\u001b[0;34m\u001b[0m\u001b[0;34m\u001b[0m\u001b[0m\n\u001b[1;32m    719\u001b[0m                 \u001b[0;32mfor\u001b[0m \u001b[0mindex\u001b[0m \u001b[0;32min\u001b[0m \u001b[0mself\u001b[0m\u001b[0;34m.\u001b[0m\u001b[0mindex_set\u001b[0m\u001b[0;34m(\u001b[0m\u001b[0;34m)\u001b[0m\u001b[0;34m:\u001b[0m\u001b[0;34m\u001b[0m\u001b[0;34m\u001b[0m\u001b[0m\n\u001b[0;32m--> 720\u001b[0;31m                     \u001b[0mself\u001b[0m\u001b[0;34m.\u001b[0m\u001b[0m_setitem_when_not_present\u001b[0m\u001b[0;34m(\u001b[0m\u001b[0mindex\u001b[0m\u001b[0;34m,\u001b[0m \u001b[0mrule\u001b[0m\u001b[0;34m(\u001b[0m\u001b[0mblock\u001b[0m\u001b[0;34m,\u001b[0m \u001b[0mindex\u001b[0m\u001b[0;34m)\u001b[0m\u001b[0;34m)\u001b[0m\u001b[0;34m\u001b[0m\u001b[0;34m\u001b[0m\u001b[0m\n\u001b[0m\u001b[1;32m    721\u001b[0m         \u001b[0;32mexcept\u001b[0m \u001b[0mException\u001b[0m\u001b[0;34m:\u001b[0m\u001b[0;34m\u001b[0m\u001b[0;34m\u001b[0m\u001b[0m\n\u001b[1;32m    722\u001b[0m             \u001b[0merr\u001b[0m \u001b[0;34m=\u001b[0m \u001b[0msys\u001b[0m\u001b[0;34m.\u001b[0m\u001b[0mexc_info\u001b[0m\u001b[0;34m(\u001b[0m\u001b[0;34m)\u001b[0m\u001b[0;34m[\u001b[0m\u001b[0;36m1\u001b[0m\u001b[0;34m]\u001b[0m\u001b[0;34m\u001b[0m\u001b[0;34m\u001b[0m\u001b[0m\n",
            "\u001b[0;32m/usr/local/lib/python3.10/dist-packages/pyomo/core/base/initializer.py\u001b[0m in \u001b[0;36m__call__\u001b[0;34m(self, parent, idx)\u001b[0m\n\u001b[1;32m    347\u001b[0m             \u001b[0;32mreturn\u001b[0m \u001b[0mself\u001b[0m\u001b[0;34m.\u001b[0m\u001b[0m_fcn\u001b[0m\u001b[0;34m(\u001b[0m\u001b[0mparent\u001b[0m\u001b[0;34m,\u001b[0m \u001b[0;34m*\u001b[0m\u001b[0midx\u001b[0m\u001b[0;34m)\u001b[0m\u001b[0;34m\u001b[0m\u001b[0;34m\u001b[0m\u001b[0m\n\u001b[1;32m    348\u001b[0m         \u001b[0;32melse\u001b[0m\u001b[0;34m:\u001b[0m\u001b[0;34m\u001b[0m\u001b[0;34m\u001b[0m\u001b[0m\n\u001b[0;32m--> 349\u001b[0;31m             \u001b[0;32mreturn\u001b[0m \u001b[0mself\u001b[0m\u001b[0;34m.\u001b[0m\u001b[0m_fcn\u001b[0m\u001b[0;34m(\u001b[0m\u001b[0mparent\u001b[0m\u001b[0;34m,\u001b[0m \u001b[0midx\u001b[0m\u001b[0;34m)\u001b[0m\u001b[0;34m\u001b[0m\u001b[0;34m\u001b[0m\u001b[0m\n\u001b[0m\u001b[1;32m    350\u001b[0m \u001b[0;34m\u001b[0m\u001b[0m\n\u001b[1;32m    351\u001b[0m \u001b[0;34m\u001b[0m\u001b[0m\n",
            "\u001b[0;32m<ipython-input-16-4170c421a3d9>\u001b[0m in \u001b[0;36mcapacity_constraint\u001b[0;34m(model, i)\u001b[0m\n\u001b[1;32m      8\u001b[0m     return sum(model.y[i, j] * model.demand[j] \n\u001b[1;32m      9\u001b[0m                \u001b[0;32mfor\u001b[0m \u001b[0mj\u001b[0m \u001b[0;32min\u001b[0m \u001b[0mmodel\u001b[0m\u001b[0;34m.\u001b[0m\u001b[0mzones\u001b[0m\u001b[0;34m\u001b[0m\u001b[0;34m\u001b[0m\u001b[0m\n\u001b[0;32m---> 10\u001b[0;31m                if (i, j) in model.distances and model.distances[i, j]) <= model.capacity[i] * model.x[i]\n\u001b[0m\u001b[1;32m     11\u001b[0m \u001b[0;34m\u001b[0m\u001b[0m\n\u001b[1;32m     12\u001b[0m \u001b[0;34m\u001b[0m\u001b[0m\n",
            "\u001b[0;32m/usr/local/lib/python3.10/dist-packages/pyomo/core/base/indexed_component.py\u001b[0m in \u001b[0;36m__getitem__\u001b[0;34m(self, index)\u001b[0m\n\u001b[1;32m    660\u001b[0m             \u001b[0;31m#\u001b[0m\u001b[0;34m\u001b[0m\u001b[0;34m\u001b[0m\u001b[0m\n\u001b[1;32m    661\u001b[0m             \u001b[0;32mif\u001b[0m \u001b[0mobj\u001b[0m \u001b[0;32mis\u001b[0m \u001b[0m_NotFound\u001b[0m\u001b[0;34m:\u001b[0m\u001b[0;34m\u001b[0m\u001b[0;34m\u001b[0m\u001b[0m\n\u001b[0;32m--> 662\u001b[0;31m                 \u001b[0;32mreturn\u001b[0m \u001b[0mself\u001b[0m\u001b[0;34m.\u001b[0m\u001b[0m_getitem_when_not_present\u001b[0m\u001b[0;34m(\u001b[0m\u001b[0mindex\u001b[0m\u001b[0;34m)\u001b[0m\u001b[0;34m\u001b[0m\u001b[0;34m\u001b[0m\u001b[0m\n\u001b[0m\u001b[1;32m    663\u001b[0m \u001b[0;34m\u001b[0m\u001b[0m\n\u001b[1;32m    664\u001b[0m         \u001b[0;32mreturn\u001b[0m \u001b[0mobj\u001b[0m\u001b[0;34m\u001b[0m\u001b[0;34m\u001b[0m\u001b[0m\n",
            "\u001b[0;32m/usr/local/lib/python3.10/dist-packages/pyomo/core/base/constraint.py\u001b[0m in \u001b[0;36m_getitem_when_not_present\u001b[0;34m(self, idx)\u001b[0m\n\u001b[1;32m    733\u001b[0m         \u001b[0;32mif\u001b[0m \u001b[0mself\u001b[0m\u001b[0;34m.\u001b[0m\u001b[0mrule\u001b[0m \u001b[0;32mis\u001b[0m \u001b[0;32mNone\u001b[0m\u001b[0;34m:\u001b[0m\u001b[0;34m\u001b[0m\u001b[0;34m\u001b[0m\u001b[0m\n\u001b[1;32m    734\u001b[0m             \u001b[0;32mraise\u001b[0m \u001b[0mKeyError\u001b[0m\u001b[0;34m(\u001b[0m\u001b[0midx\u001b[0m\u001b[0;34m)\u001b[0m\u001b[0;34m\u001b[0m\u001b[0;34m\u001b[0m\u001b[0m\n\u001b[0;32m--> 735\u001b[0;31m         \u001b[0mcon\u001b[0m \u001b[0;34m=\u001b[0m \u001b[0mself\u001b[0m\u001b[0;34m.\u001b[0m\u001b[0m_setitem_when_not_present\u001b[0m\u001b[0;34m(\u001b[0m\u001b[0midx\u001b[0m\u001b[0;34m,\u001b[0m \u001b[0mself\u001b[0m\u001b[0;34m.\u001b[0m\u001b[0mrule\u001b[0m\u001b[0;34m(\u001b[0m\u001b[0mself\u001b[0m\u001b[0;34m.\u001b[0m\u001b[0mparent_block\u001b[0m\u001b[0;34m(\u001b[0m\u001b[0;34m)\u001b[0m\u001b[0;34m,\u001b[0m \u001b[0midx\u001b[0m\u001b[0;34m)\u001b[0m\u001b[0;34m)\u001b[0m\u001b[0;34m\u001b[0m\u001b[0;34m\u001b[0m\u001b[0m\n\u001b[0m\u001b[1;32m    736\u001b[0m         \u001b[0;32mif\u001b[0m \u001b[0mcon\u001b[0m \u001b[0;32mis\u001b[0m \u001b[0;32mNone\u001b[0m\u001b[0;34m:\u001b[0m\u001b[0;34m\u001b[0m\u001b[0;34m\u001b[0m\u001b[0m\n\u001b[1;32m    737\u001b[0m             \u001b[0;32mraise\u001b[0m \u001b[0mKeyError\u001b[0m\u001b[0;34m(\u001b[0m\u001b[0midx\u001b[0m\u001b[0;34m)\u001b[0m\u001b[0;34m\u001b[0m\u001b[0;34m\u001b[0m\u001b[0m\n",
            "... last 4 frames repeated, from the frame below ...\n",
            "\u001b[0;32m/usr/local/lib/python3.10/dist-packages/pyomo/core/base/initializer.py\u001b[0m in \u001b[0;36m__call__\u001b[0;34m(self, parent, idx)\u001b[0m\n\u001b[1;32m    347\u001b[0m             \u001b[0;32mreturn\u001b[0m \u001b[0mself\u001b[0m\u001b[0;34m.\u001b[0m\u001b[0m_fcn\u001b[0m\u001b[0;34m(\u001b[0m\u001b[0mparent\u001b[0m\u001b[0;34m,\u001b[0m \u001b[0;34m*\u001b[0m\u001b[0midx\u001b[0m\u001b[0;34m)\u001b[0m\u001b[0;34m\u001b[0m\u001b[0;34m\u001b[0m\u001b[0m\n\u001b[1;32m    348\u001b[0m         \u001b[0;32melse\u001b[0m\u001b[0;34m:\u001b[0m\u001b[0;34m\u001b[0m\u001b[0;34m\u001b[0m\u001b[0m\n\u001b[0;32m--> 349\u001b[0;31m             \u001b[0;32mreturn\u001b[0m \u001b[0mself\u001b[0m\u001b[0;34m.\u001b[0m\u001b[0m_fcn\u001b[0m\u001b[0;34m(\u001b[0m\u001b[0mparent\u001b[0m\u001b[0;34m,\u001b[0m \u001b[0midx\u001b[0m\u001b[0;34m)\u001b[0m\u001b[0;34m\u001b[0m\u001b[0;34m\u001b[0m\u001b[0m\n\u001b[0m\u001b[1;32m    350\u001b[0m \u001b[0;34m\u001b[0m\u001b[0m\n\u001b[1;32m    351\u001b[0m \u001b[0;34m\u001b[0m\u001b[0m\n",
            "\u001b[0;31mRecursionError\u001b[0m: maximum recursion depth exceeded"
          ]
        }
      ]
    },
    {
      "cell_type": "code",
      "source": [
        "# Solve\n",
        "solver = pyo.SolverFactory('cbc')\n",
        "results = solver.solve(model)\n",
        "\n",
        "# Display results\n",
        "print(\"Optimal Solution:\")\n",
        "for site in model.sites:\n",
        "    if pyo.value(model.x[site]) > 0.5:\n",
        "        print(f\"Install station at: {site}\")\n",
        "        served_zones = [j for j in model.zones if pyo.value(model.y[site, j]) > 0.5]\n",
        "        print(f\"  Serves zones: {served_zones}\")\n"
      ],
      "metadata": {
        "id": "AGoZMeKZmThH"
      },
      "execution_count": null,
      "outputs": []
    },
    {
      "cell_type": "code",
      "source": [
        "import pyomo.environ as pyo\n",
        "import pandas as pd\n",
        "\n",
        "# Load and preprocess data\n",
        "file_path = 'ev_charging_patterns.csv'\n",
        "ev_data = pd.read_csv(file_path)\n",
        "\n",
        "# Aggregate demand by location\n",
        "demand_data = ev_data.groupby('Charging Station Location').agg(\n",
        "    demand=('Energy Consumed (kWh)', 'sum'),\n",
        "    sessions=('Charging Station ID', 'count')\n",
        ").reset_index()\n",
        "\n",
        "# Define candidate sites\n",
        "candidate_sites = ev_data['Charging Station ID'].unique()\n",
        "installation_costs = {site: 50000 for site in candidate_sites}  # Example cost per site\n",
        "capacity = {site: 1000 for site in candidate_sites}  # Example capacity (kWh)\n",
        "\n",
        "# Create a simplified distance matrix\n",
        "distance_threshold = 100  # Example threshold\n",
        "locations = ev_data[['Charging Station ID', 'Charging Station Location']].drop_duplicates()\n",
        "\n",
        "# Initialize distances\n",
        "distances = {\n",
        "    (i, j): 1 if i != j else 0  # Example proximity logic\n",
        "    for i in candidate_sites\n",
        "    for j in demand_data['Charging Station Location']\n",
        "}\n",
        "\n",
        "# Ensure all pairs have a default value\n",
        "all_pairs = [(i, j) for i in candidate_sites for j in demand_data['Charging Station Location']]\n",
        "for pair in all_pairs:\n",
        "    if pair not in distances:\n",
        "        distances[pair] = 0  # Default to 0 if not provided\n",
        "\n",
        "# Parameters\n",
        "budget = 500000  # Total budget\n",
        "penalty_unmet_demand = 100  # Penalty cost per unmet demand unit (kWh)\n",
        "\n",
        "# Model\n",
        "model = pyo.ConcreteModel()\n",
        "\n",
        "# Sets\n",
        "model.sites = pyo.Set(initialize=candidate_sites)\n",
        "model.zones = pyo.Set(initialize=demand_data['Charging Station Location'])\n",
        "\n",
        "# Parameters\n",
        "model.installation_costs = pyo.Param(model.sites, initialize=installation_costs)\n",
        "model.capacity = pyo.Param(model.sites, initialize=capacity)\n",
        "model.demand = pyo.Param(model.zones, initialize=demand_data.set_index('Charging Station Location')['demand'].to_dict())\n",
        "model.distances = pyo.Param(model.sites, model.zones, initialize=distances, default=0, within=pyo.Binary)\n",
        "\n",
        "# Variables\n",
        "model.x = pyo.Var(model.sites, within=pyo.Binary)  # Installation decision\n",
        "model.y = pyo.Var(model.sites, model.zones, within=pyo.Binary)  # Coverage decision\n",
        "\n",
        "# Objective: Minimize installation costs and penalty for unmet demand\n",
        "model.obj = pyo.Objective(\n",
        "    expr=sum(model.installation_costs[i] * model.x[i] for i in model.sites) +\n",
        "         sum(\n",
        "             penalty_unmet_demand * (1 - sum(model.y[i, j] for i in model.sites if model.distances[i, j] == 1))\n",
        "             * model.demand[j]\n",
        "             for j in model.zones\n",
        "         ),\n",
        "    sense=pyo.minimize\n",
        ")\n",
        "\n",
        "# Constraints\n",
        "# Coverage constraint: Each demand zone must be covered by at least one station\n",
        "def coverage_constraint(model, j):\n",
        "    return sum(model.y[i, j] for i in model.sites if model.distances[i, j] == 1) >= 1\n",
        "\n",
        "model.coverage = pyo.Constraint(model.zones, rule=coverage_constraint)\n",
        "\n",
        "# Capacity constraint: Stations can only serve within their capacity if installed\n",
        "def capacity_constraint(model, i):\n",
        "    # Use a pre-calculated list of relevant zones for each site to avoid recursive calls within the constraint\n",
        "    relevant_zones = [j for j in model.zones if model.distances[i, j] == 1]\n",
        "    return sum(model.y[i, j] * model.demand[j] for j in relevant_zones) <= model.capacity[i] * model.x[i]\n",
        "\n",
        "model.capacity_constraint = pyo.Constraint(model.sites, rule=capacity_constraint) # Renamed constraint\n",
        "\n",
        "# Budget constraint: Total installation costs must not exceed the budget\n",
        "def budget_constraint(model):\n",
        "    return sum(model.installation_costs[i] * model.x[i] for i in model.sites) <= budget\n",
        "\n",
        "model.budget = pyo.Constraint(rule=budget_constraint)\n",
        "\n",
        "# Solve the model\n",
        "solver = pyo.SolverFactory('cbc')\n",
        "results = solver.solve(model)\n",
        "\n",
        "# Display results\n",
        "print(\"\\nOptimal Solution:\")\n",
        "for site in model.sites:\n",
        "    if pyo.value(model.x[site]) > 0.5:\n",
        "        print(f\"Install station at: {site}\")\n",
        "        served_zones = [j for j in model.zones if pyo.value(model.y[site, j]) > 0.5]\n",
        "        print(f\"  Serves zones: {served_zones}\")\n"
      ],
      "metadata": {
        "colab": {
          "base_uri": "https://localhost:8080/",
          "height": 490
        },
        "id": "I2QP3gH6oFFS",
        "outputId": "ed5a2e77-e7df-408e-aa81-a48766d41fb8"
      },
      "execution_count": null,
      "outputs": [
        {
          "output_type": "stream",
          "name": "stderr",
          "text": [
            "WARNING:pyomo.core:Loading a SolverResults object with a warning status into model.name=\"unknown\";\n",
            "  - termination condition: infeasible\n",
            "  - message from solver: <undefined>\n",
            "ERROR:pyomo.common.numeric_types:evaluating object as numeric value: x[Station_391]\n",
            "    (object: <class 'pyomo.core.base.var.VarData'>)\n",
            "No value for uninitialized NumericValue object x[Station_391]\n"
          ]
        },
        {
          "output_type": "stream",
          "name": "stdout",
          "text": [
            "\n",
            "Optimal Solution:\n"
          ]
        },
        {
          "output_type": "error",
          "ename": "ValueError",
          "evalue": "No value for uninitialized NumericValue object x[Station_391]",
          "traceback": [
            "\u001b[0;31m---------------------------------------------------------------------------\u001b[0m",
            "\u001b[0;31mValueError\u001b[0m                                Traceback (most recent call last)",
            "\u001b[0;32m<ipython-input-18-9566a6e5ad26>\u001b[0m in \u001b[0;36m<cell line: 95>\u001b[0;34m()\u001b[0m\n\u001b[1;32m     94\u001b[0m \u001b[0mprint\u001b[0m\u001b[0;34m(\u001b[0m\u001b[0;34m\"\\nOptimal Solution:\"\u001b[0m\u001b[0;34m)\u001b[0m\u001b[0;34m\u001b[0m\u001b[0;34m\u001b[0m\u001b[0m\n\u001b[1;32m     95\u001b[0m \u001b[0;32mfor\u001b[0m \u001b[0msite\u001b[0m \u001b[0;32min\u001b[0m \u001b[0mmodel\u001b[0m\u001b[0;34m.\u001b[0m\u001b[0msites\u001b[0m\u001b[0;34m:\u001b[0m\u001b[0;34m\u001b[0m\u001b[0;34m\u001b[0m\u001b[0m\n\u001b[0;32m---> 96\u001b[0;31m     \u001b[0;32mif\u001b[0m \u001b[0mpyo\u001b[0m\u001b[0;34m.\u001b[0m\u001b[0mvalue\u001b[0m\u001b[0;34m(\u001b[0m\u001b[0mmodel\u001b[0m\u001b[0;34m.\u001b[0m\u001b[0mx\u001b[0m\u001b[0;34m[\u001b[0m\u001b[0msite\u001b[0m\u001b[0;34m]\u001b[0m\u001b[0;34m)\u001b[0m \u001b[0;34m>\u001b[0m \u001b[0;36m0.5\u001b[0m\u001b[0;34m:\u001b[0m\u001b[0;34m\u001b[0m\u001b[0;34m\u001b[0m\u001b[0m\n\u001b[0m\u001b[1;32m     97\u001b[0m         \u001b[0mprint\u001b[0m\u001b[0;34m(\u001b[0m\u001b[0;34mf\"Install station at: {site}\"\u001b[0m\u001b[0;34m)\u001b[0m\u001b[0;34m\u001b[0m\u001b[0;34m\u001b[0m\u001b[0m\n\u001b[1;32m     98\u001b[0m         \u001b[0mserved_zones\u001b[0m \u001b[0;34m=\u001b[0m \u001b[0;34m[\u001b[0m\u001b[0mj\u001b[0m \u001b[0;32mfor\u001b[0m \u001b[0mj\u001b[0m \u001b[0;32min\u001b[0m \u001b[0mmodel\u001b[0m\u001b[0;34m.\u001b[0m\u001b[0mzones\u001b[0m \u001b[0;32mif\u001b[0m \u001b[0mpyo\u001b[0m\u001b[0;34m.\u001b[0m\u001b[0mvalue\u001b[0m\u001b[0;34m(\u001b[0m\u001b[0mmodel\u001b[0m\u001b[0;34m.\u001b[0m\u001b[0my\u001b[0m\u001b[0;34m[\u001b[0m\u001b[0msite\u001b[0m\u001b[0;34m,\u001b[0m \u001b[0mj\u001b[0m\u001b[0;34m]\u001b[0m\u001b[0;34m)\u001b[0m \u001b[0;34m>\u001b[0m \u001b[0;36m0.5\u001b[0m\u001b[0;34m]\u001b[0m\u001b[0;34m\u001b[0m\u001b[0;34m\u001b[0m\u001b[0m\n",
            "\u001b[0;32m/usr/local/lib/python3.10/dist-packages/pyomo/common/numeric_types.py\u001b[0m in \u001b[0;36mvalue\u001b[0;34m(obj, exception)\u001b[0m\n\u001b[1;32m    382\u001b[0m             \u001b[0mtmp\u001b[0m \u001b[0;34m=\u001b[0m \u001b[0mobj\u001b[0m\u001b[0;34m(\u001b[0m\u001b[0mexception\u001b[0m\u001b[0;34m=\u001b[0m\u001b[0;32mTrue\u001b[0m\u001b[0;34m)\u001b[0m\u001b[0;34m\u001b[0m\u001b[0;34m\u001b[0m\u001b[0m\n\u001b[1;32m    383\u001b[0m             \u001b[0;32mif\u001b[0m \u001b[0mtmp\u001b[0m \u001b[0;32mis\u001b[0m \u001b[0;32mNone\u001b[0m\u001b[0;34m:\u001b[0m\u001b[0;34m\u001b[0m\u001b[0;34m\u001b[0m\u001b[0m\n\u001b[0;32m--> 384\u001b[0;31m                 raise ValueError(\n\u001b[0m\u001b[1;32m    385\u001b[0m                     \u001b[0;34m\"No value for uninitialized NumericValue object %s\"\u001b[0m \u001b[0;34m%\u001b[0m \u001b[0;34m(\u001b[0m\u001b[0mobj\u001b[0m\u001b[0;34m.\u001b[0m\u001b[0mname\u001b[0m\u001b[0;34m,\u001b[0m\u001b[0;34m)\u001b[0m\u001b[0;34m\u001b[0m\u001b[0;34m\u001b[0m\u001b[0m\n\u001b[1;32m    386\u001b[0m                 )\n",
            "\u001b[0;31mValueError\u001b[0m: No value for uninitialized NumericValue object x[Station_391]"
          ]
        }
      ]
    },
    {
      "source": [
        "import pyomo.environ as pyo\n",
        "import pandas as pd\n",
        "\n",
        "# ... (your data loading and preprocessing code) ...\n",
        "\n",
        "# Model\n",
        "model = pyo.ConcreteModel()\n",
        "\n",
        "# ... (your sets and parameters) ...\n",
        "\n",
        "# Variables\n",
        "model.x = pyo.Var(model.sites, within=pyo.Binary)  # Installation decision\n",
        "model.y = pyo.Var(model.sites, model.zones, within=pyo.Binary)  # Coverage decision\n",
        "\n",
        "# Objective: Minimize installation costs and penalty for unmet demand\n",
        "model.obj = pyo.Objective(\n",
        "    expr=sum(model.installation_costs[i] * model.x[i] for i in model.sites) +\n",
        "         sum(\n",
        "             penalty_unmet_demand * (1 - sum(model.y[i, j] for i in model.sites if model.distances[i, j] == 1))\n",
        "             * model.demand[j]\n",
        "             for j in model.zones\n",
        "         ),\n",
        "    sense=pyo.minimize\n",
        ")\n",
        "\n",
        "# Constraints\n",
        "# Coverage constraint: Each demand zone must be covered by at least one station\n",
        "def coverage_constraint(model, j):\n",
        "    # Use a pre-calculated list of relevant sites for each zone to avoid recursive calls within the constraint\n",
        "    relevant_sites = [i for i in model.sites if model.distances[i, j] == 1]\n",
        "    return sum(model.y[i, j] for i in relevant_sites) >= 1\n",
        "\n",
        "model.coverage_constraint = pyo.Constraint(model.zones, rule=coverage_constraint)  # Renamed constraint\n",
        "\n",
        "# Capacity constraint: Stations can only serve within their capacity if installed\n",
        "def capacity_constraint(model, i):\n",
        "    # Use a pre-calculated list of relevant zones for each site to avoid recursive calls within the constraint\n",
        "    relevant_zones = [j for j in model.zones if model.distances[i, j] == 1]\n",
        "    return sum(model.y[i, j] * model.demand[j] for j in relevant_zones) <= model.capacity[i] * model.x[i]\n",
        "\n",
        "model.capacity_constraint = pyo.Constraint(model.sites, rule=capacity_constraint) # Renamed constraint\n",
        "\n",
        "# Budget constraint: Total installation costs must not exceed the budget\n",
        "def budget_constraint(model):\n",
        "    return sum(model.installation_costs[i] * model.x[i] for i in model.sites) <= budget\n",
        "\n",
        "model.budget_constraint = pyo.Constraint(rule=budget_constraint) # Renamed constraint\n",
        "\n",
        "# ... (your solver and results display code) ..."
      ],
      "cell_type": "code",
      "metadata": {
        "id": "1uFoC0NTocc3"
      },
      "execution_count": null,
      "outputs": []
    }
  ]
}